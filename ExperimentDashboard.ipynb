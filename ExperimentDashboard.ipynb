{
 "cells": [
  {
   "cell_type": "code",
   "execution_count": 1,
   "metadata": {
    "scrolled": false
   },
   "outputs": [
    {
     "data": {
      "text/html": [
       "\n",
       "        <iframe\n",
       "            width=\"1000\"\n",
       "            height=\"1500\"\n",
       "            src=\"./loghtml/logtable_supervised_pretraining_WSJ.html\"\n",
       "            frameborder=\"0\"\n",
       "            allowfullscreen\n",
       "        ></iframe>\n",
       "        "
      ],
      "text/plain": [
       "<IPython.lib.display.IFrame at 0x7f44f83b54a8>"
      ]
     },
     "execution_count": 1,
     "metadata": {},
     "output_type": "execute_result"
    }
   ],
   "source": [
    "node = 'http://chroneme02.umiacs.umd.edu'\n",
    "port = '8907'\n",
    "#experiment_folder = 'supervised_pretraining_WSJ'\n",
    "\n",
    "\n",
    "from IPython.display import IFrame\n",
    "import IPython\n",
    "import os\n",
    "import utils.run\n",
    "\n",
    "utils.run.generate_log_table(node, port, 'supervised_pretraining_WSJ')\n",
    "IFrame(src='./loghtml/logtable_supervised_pretraining_WSJ.html', width=1000, height=1500)\n",
    "\n",
    "\n"
   ]
  },
  {
   "cell_type": "code",
   "execution_count": 2,
   "metadata": {
    "scrolled": false
   },
   "outputs": [
    {
     "data": {
      "text/html": [
       "\n",
       "        <iframe\n",
       "            width=\"1000\"\n",
       "            height=\"1500\"\n",
       "            src=\"./loghtml/logtable_supervised_pretraining_GPJ.html\"\n",
       "            frameborder=\"0\"\n",
       "            allowfullscreen\n",
       "        ></iframe>\n",
       "        "
      ],
      "text/plain": [
       "<IPython.lib.display.IFrame at 0x7f44f841c320>"
      ]
     },
     "execution_count": 2,
     "metadata": {},
     "output_type": "execute_result"
    }
   ],
   "source": [
    "utils.run.generate_log_table(node, port, 'supervised_pretraining_GPJ')\n",
    "IFrame(src='./loghtml/logtable_supervised_pretraining_GPJ.html', width=1000, height=1500)"
   ]
  },
  {
   "cell_type": "code",
   "execution_count": 3,
   "metadata": {
    "scrolled": false
   },
   "outputs": [
    {
     "data": {
      "text/html": [
       "\n",
       "        <iframe\n",
       "            width=\"1000\"\n",
       "            height=\"1500\"\n",
       "            src=\"./loghtml/logtable_supervised_pretraining_CSJ.html\"\n",
       "            frameborder=\"0\"\n",
       "            allowfullscreen\n",
       "        ></iframe>\n",
       "        "
      ],
      "text/plain": [
       "<IPython.lib.display.IFrame at 0x7f44f9d88240>"
      ]
     },
     "execution_count": 3,
     "metadata": {},
     "output_type": "execute_result"
    }
   ],
   "source": [
    "utils.run.generate_log_table(node, port, 'supervised_pretraining_CSJ')\n",
    "IFrame(src='./loghtml/logtable_supervised_pretraining_CSJ.html', width=1000, height=1500)"
   ]
  },
  {
   "cell_type": "code",
   "execution_count": 4,
   "metadata": {
    "scrolled": false
   },
   "outputs": [
    {
     "data": {
      "text/html": [
       "\n",
       "        <iframe\n",
       "            width=\"1000\"\n",
       "            height=\"1500\"\n",
       "            src=\"./loghtml/logtable_supervised_pretraining_BUC.html\"\n",
       "            frameborder=\"0\"\n",
       "            allowfullscreen\n",
       "        ></iframe>\n",
       "        "
      ],
      "text/plain": [
       "<IPython.lib.display.IFrame at 0x7f44f83b54e0>"
      ]
     },
     "execution_count": 4,
     "metadata": {},
     "output_type": "execute_result"
    }
   ],
   "source": [
    "utils.run.generate_log_table(node, port, 'supervised_pretraining_BUC')\n",
    "IFrame(src='./loghtml/logtable_supervised_pretraining_BUC.html', width=1000, height=1500)"
   ]
  }
 ],
 "metadata": {
  "kernelspec": {
   "display_name": "Python [conda env:audneurorl] *",
   "language": "python",
   "name": "conda-env-audneurorl-py"
  },
  "language_info": {
   "codemirror_mode": {
    "name": "ipython",
    "version": 3
   },
   "file_extension": ".py",
   "mimetype": "text/x-python",
   "name": "python",
   "nbconvert_exporter": "python",
   "pygments_lexer": "ipython3",
   "version": "3.6.12"
  }
 },
 "nbformat": 4,
 "nbformat_minor": 4
}
